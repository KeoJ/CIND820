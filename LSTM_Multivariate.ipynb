{
  "nbformat": 4,
  "nbformat_minor": 0,
  "metadata": {
    "colab": {
      "name": "LSTM Multivariate.ipynb",
      "provenance": [],
      "authorship_tag": "ABX9TyMs1epFb3ua2C1/sj2TjAES",
      "include_colab_link": true
    },
    "kernelspec": {
      "name": "python3",
      "display_name": "Python 3"
    },
    "language_info": {
      "name": "python"
    }
  },
  "cells": [
    {
      "cell_type": "markdown",
      "metadata": {
        "id": "view-in-github",
        "colab_type": "text"
      },
      "source": [
        "<a href=\"https://colab.research.google.com/github/KeoJ/CIND820/blob/main/LSTM_Multivariate.ipynb\" target=\"_parent\"><img src=\"https://colab.research.google.com/assets/colab-badge.svg\" alt=\"Open In Colab\"/></a>"
      ]
    },
    {
      "cell_type": "code",
      "metadata": {
        "id": "FhDGaIGCY4W7"
      },
      "source": [
        "import pandas as pd\n",
        "from math import sqrt\n",
        "from numpy import concatenate\n",
        "from sklearn.preprocessing import MinMaxScaler\n",
        "from sklearn.preprocessing import LabelEncoder\n",
        "from sklearn.metrics import mean_squared_error\n",
        "from matplotlib import pyplot\n",
        "\n",
        "from pandas import read_csv\n",
        "from pandas import DataFrame\n",
        "from pandas import concat\n",
        "from keras.models import Sequential\n",
        "from keras.layers import Dense\n",
        "from keras.layers import LSTM\n"
      ],
      "execution_count": 9,
      "outputs": []
    },
    {
      "cell_type": "code",
      "metadata": {
        "id": "4OqHux3ZcuaS"
      },
      "source": [
        "# convert series to supervised learning\n",
        "def series_to_supervised(data, n_in=1, n_out=1, dropnan=True):\n",
        "\tn_vars = 1 if type(data) is list else data.shape[1]\n",
        "\tdf = DataFrame(data)\n",
        "\tcols, names = list(), list()\n",
        "\t# input sequence (t-n, ... t-1)\n",
        "\tfor i in range(n_in, 0, -1):\n",
        "\t\tcols.append(df.shift(i))\n",
        "\t\tnames += [('var%d(t-%d)' % (j+1, i)) for j in range(n_vars)]\n",
        "\t# forecast sequence (t, t+1, ... t+n)\n",
        "\tfor i in range(0, n_out):\n",
        "\t\tcols.append(df.shift(-i))\n",
        "\t\tif i == 0:\n",
        "\t\t\tnames += [('var%d(t)' % (j+1)) for j in range(n_vars)]\n",
        "\t\telse:\n",
        "\t\t\tnames += [('var%d(t+%d)' % (j+1, i)) for j in range(n_vars)]\n",
        "\t# put it all together\n",
        "\tagg = concat(cols, axis=1)\n",
        "\tagg.columns = names\n",
        "\t# drop rows with NaN values\n",
        "\tif dropnan:\n",
        "\t\tagg.dropna(inplace=True)\n",
        "\treturn agg"
      ],
      "execution_count": 75,
      "outputs": []
    },
    {
      "cell_type": "code",
      "metadata": {
        "id": "i0oDZXTmdAVx"
      },
      "source": [
        "# load dataset\n",
        "btc_twitter = pd.read_csv('/btc_twitter.csv')\n",
        "values = btc_twitter.values\n",
        "\n",
        "# constants for model\n",
        "n_days = 2\n",
        "n_features = 2\n",
        "n_obs = n_days * n_features"
      ],
      "execution_count": 100,
      "outputs": []
    },
    {
      "cell_type": "code",
      "metadata": {
        "id": "-TFuCd_PiSwN"
      },
      "source": [
        "# scaling the data\n",
        "scaler = MinMaxScaler(feature_range=(0, 1))\n",
        "scaled = scaler.fit_transform(values)"
      ],
      "execution_count": 101,
      "outputs": []
    },
    {
      "cell_type": "code",
      "metadata": {
        "id": "ymO7jvbxis3m"
      },
      "source": [
        "# frame as supervised learning\n",
        "reframed = series_to_supervised(scaled, 1, 1)"
      ],
      "execution_count": 102,
      "outputs": []
    },
    {
      "cell_type": "code",
      "metadata": {
        "colab": {
          "base_uri": "https://localhost:8080/"
        },
        "id": "rhutkNMljbxj",
        "outputId": "2182ed82-b4f0-47d5-e1f5-b3f49aa82004"
      },
      "source": [
        "# split into train and test sets\n",
        "values = reframed.values\n",
        "train = values[998:2093, :]\n",
        "test = values[2093:2143, :]\n",
        "\n",
        "# split into input and outputs\n",
        "train_X, train_y = train[:, :n_obs], train[:, -n_features]\n",
        "test_X, test_y = test[:, :n_obs], test[:, -n_features]\n",
        "\n",
        "# reshape input to be 3D [samples, timesteps, features]\n",
        "train_X = train_X.reshape((train_X.shape[0], n_days, n_features))\n",
        "test_X = test_X.reshape((test_X.shape[0], n_days, n_features))\n",
        "print(train_X.shape, train_y.shape, test_X.shape, test_y.shape)"
      ],
      "execution_count": 103,
      "outputs": [
        {
          "output_type": "stream",
          "text": [
            "(1095, 2, 2) (1095,) (50, 2, 2) (50,)\n"
          ],
          "name": "stdout"
        }
      ]
    },
    {
      "cell_type": "code",
      "metadata": {
        "colab": {
          "base_uri": "https://localhost:8080/"
        },
        "id": "VifE_gO_kBLt",
        "outputId": "e74bb71f-1e11-4f45-be1e-bb1b6269fb47"
      },
      "source": [
        "# design network\n",
        "model = Sequential()\n",
        "model.add(LSTM(units = 50, input_shape=(train_X.shape[1], train_X.shape[2])))\n",
        "model.add(Dense(1))\n",
        "model.compile(loss='mae', optimizer='adam')\n",
        "\n",
        "# fit network\n",
        "history = model.fit(train_X, train_y, epochs=100, batch_size=32, validation_data=(test_X, test_y), verbose=2, shuffle=False)"
      ],
      "execution_count": 104,
      "outputs": [
        {
          "output_type": "stream",
          "text": [
            "Epoch 1/100\n",
            "35/35 - 3s - loss: 0.0368 - val_loss: 0.0187\n",
            "Epoch 2/100\n",
            "35/35 - 0s - loss: 0.0520 - val_loss: 0.0492\n",
            "Epoch 3/100\n",
            "35/35 - 0s - loss: 0.0397 - val_loss: 0.0156\n",
            "Epoch 4/100\n",
            "35/35 - 0s - loss: 0.0437 - val_loss: 0.0409\n",
            "Epoch 5/100\n",
            "35/35 - 0s - loss: 0.0313 - val_loss: 0.0082\n",
            "Epoch 6/100\n",
            "35/35 - 0s - loss: 0.0307 - val_loss: 0.0068\n",
            "Epoch 7/100\n",
            "35/35 - 0s - loss: 0.0253 - val_loss: 0.0036\n",
            "Epoch 8/100\n",
            "35/35 - 0s - loss: 0.0174 - val_loss: 0.0055\n",
            "Epoch 9/100\n",
            "35/35 - 0s - loss: 0.0088 - val_loss: 0.0047\n",
            "Epoch 10/100\n",
            "35/35 - 0s - loss: 0.0158 - val_loss: 0.0050\n",
            "Epoch 11/100\n",
            "35/35 - 0s - loss: 0.0068 - val_loss: 0.0029\n",
            "Epoch 12/100\n",
            "35/35 - 0s - loss: 0.0043 - val_loss: 0.0037\n",
            "Epoch 13/100\n",
            "35/35 - 0s - loss: 0.0091 - val_loss: 0.0079\n",
            "Epoch 14/100\n",
            "35/35 - 0s - loss: 0.0109 - val_loss: 0.0039\n",
            "Epoch 15/100\n",
            "35/35 - 0s - loss: 0.0050 - val_loss: 0.0076\n",
            "Epoch 16/100\n",
            "35/35 - 0s - loss: 0.0186 - val_loss: 0.0087\n",
            "Epoch 17/100\n",
            "35/35 - 0s - loss: 0.0102 - val_loss: 0.0039\n",
            "Epoch 18/100\n",
            "35/35 - 0s - loss: 0.0096 - val_loss: 0.0040\n",
            "Epoch 19/100\n",
            "35/35 - 0s - loss: 0.0135 - val_loss: 0.0074\n",
            "Epoch 20/100\n",
            "35/35 - 0s - loss: 0.0196 - val_loss: 0.0190\n",
            "Epoch 21/100\n",
            "35/35 - 0s - loss: 0.0214 - val_loss: 0.0139\n",
            "Epoch 22/100\n",
            "35/35 - 0s - loss: 0.0130 - val_loss: 0.0028\n",
            "Epoch 23/100\n",
            "35/35 - 0s - loss: 0.0048 - val_loss: 0.0034\n",
            "Epoch 24/100\n",
            "35/35 - 0s - loss: 0.0088 - val_loss: 0.0041\n",
            "Epoch 25/100\n",
            "35/35 - 0s - loss: 0.0090 - val_loss: 0.0029\n",
            "Epoch 26/100\n",
            "35/35 - 0s - loss: 0.0051 - val_loss: 0.0062\n",
            "Epoch 27/100\n",
            "35/35 - 0s - loss: 0.0175 - val_loss: 0.0088\n",
            "Epoch 28/100\n",
            "35/35 - 0s - loss: 0.0087 - val_loss: 0.0032\n",
            "Epoch 29/100\n",
            "35/35 - 0s - loss: 0.0066 - val_loss: 0.0042\n",
            "Epoch 30/100\n",
            "35/35 - 0s - loss: 0.0057 - val_loss: 0.0042\n",
            "Epoch 31/100\n",
            "35/35 - 0s - loss: 0.0122 - val_loss: 0.0062\n",
            "Epoch 32/100\n",
            "35/35 - 0s - loss: 0.0083 - val_loss: 0.0033\n",
            "Epoch 33/100\n",
            "35/35 - 0s - loss: 0.0072 - val_loss: 0.0042\n",
            "Epoch 34/100\n",
            "35/35 - 0s - loss: 0.0095 - val_loss: 0.0042\n",
            "Epoch 35/100\n",
            "35/35 - 0s - loss: 0.0130 - val_loss: 0.0105\n",
            "Epoch 36/100\n",
            "35/35 - 0s - loss: 0.0189 - val_loss: 0.0146\n",
            "Epoch 37/100\n",
            "35/35 - 0s - loss: 0.0157 - val_loss: 0.0061\n",
            "Epoch 38/100\n",
            "35/35 - 0s - loss: 0.0036 - val_loss: 0.0032\n",
            "Epoch 39/100\n",
            "35/35 - 0s - loss: 0.0068 - val_loss: 0.0038\n",
            "Epoch 40/100\n",
            "35/35 - 0s - loss: 0.0046 - val_loss: 0.0040\n",
            "Epoch 41/100\n",
            "35/35 - 0s - loss: 0.0032 - val_loss: 0.0032\n",
            "Epoch 42/100\n",
            "35/35 - 0s - loss: 0.0085 - val_loss: 0.0021\n",
            "Epoch 43/100\n",
            "35/35 - 0s - loss: 0.0045 - val_loss: 0.0040\n",
            "Epoch 44/100\n",
            "35/35 - 0s - loss: 0.0045 - val_loss: 0.0029\n",
            "Epoch 45/100\n",
            "35/35 - 0s - loss: 0.0069 - val_loss: 0.0051\n",
            "Epoch 46/100\n",
            "35/35 - 0s - loss: 0.0030 - val_loss: 0.0038\n",
            "Epoch 47/100\n",
            "35/35 - 0s - loss: 0.0032 - val_loss: 0.0025\n",
            "Epoch 48/100\n",
            "35/35 - 0s - loss: 0.0034 - val_loss: 0.0036\n",
            "Epoch 49/100\n",
            "35/35 - 0s - loss: 0.0090 - val_loss: 0.0023\n",
            "Epoch 50/100\n",
            "35/35 - 0s - loss: 0.0047 - val_loss: 0.0043\n",
            "Epoch 51/100\n",
            "35/35 - 0s - loss: 0.0040 - val_loss: 0.0027\n",
            "Epoch 52/100\n",
            "35/35 - 0s - loss: 0.0067 - val_loss: 0.0050\n",
            "Epoch 53/100\n",
            "35/35 - 0s - loss: 0.0033 - val_loss: 0.0042\n",
            "Epoch 54/100\n",
            "35/35 - 0s - loss: 0.0028 - val_loss: 0.0024\n",
            "Epoch 55/100\n",
            "35/35 - 0s - loss: 0.0040 - val_loss: 0.0036\n",
            "Epoch 56/100\n",
            "35/35 - 0s - loss: 0.0069 - val_loss: 0.0046\n",
            "Epoch 57/100\n",
            "35/35 - 0s - loss: 0.0030 - val_loss: 0.0045\n",
            "Epoch 58/100\n",
            "35/35 - 0s - loss: 0.0036 - val_loss: 0.0022\n",
            "Epoch 59/100\n",
            "35/35 - 0s - loss: 0.0034 - val_loss: 0.0036\n",
            "Epoch 60/100\n",
            "35/35 - 0s - loss: 0.0089 - val_loss: 0.0023\n",
            "Epoch 61/100\n",
            "35/35 - 0s - loss: 0.0054 - val_loss: 0.0047\n",
            "Epoch 62/100\n",
            "35/35 - 0s - loss: 0.0053 - val_loss: 0.0023\n",
            "Epoch 63/100\n",
            "35/35 - 0s - loss: 0.0039 - val_loss: 0.0024\n",
            "Epoch 64/100\n",
            "35/35 - 0s - loss: 0.0070 - val_loss: 0.0056\n",
            "Epoch 65/100\n",
            "35/35 - 0s - loss: 0.0040 - val_loss: 0.0042\n",
            "Epoch 66/100\n",
            "35/35 - 0s - loss: 0.0065 - val_loss: 0.0048\n",
            "Epoch 67/100\n",
            "35/35 - 0s - loss: 0.0030 - val_loss: 0.0023\n",
            "Epoch 68/100\n",
            "35/35 - 0s - loss: 0.0023 - val_loss: 0.0020\n",
            "Epoch 69/100\n",
            "35/35 - 0s - loss: 0.0021 - val_loss: 0.0019\n",
            "Epoch 70/100\n",
            "35/35 - 0s - loss: 0.0024 - val_loss: 0.0024\n",
            "Epoch 71/100\n",
            "35/35 - 0s - loss: 0.0059 - val_loss: 0.0069\n",
            "Epoch 72/100\n",
            "35/35 - 0s - loss: 0.0051 - val_loss: 0.0030\n",
            "Epoch 73/100\n",
            "35/35 - 0s - loss: 0.0035 - val_loss: 0.0017\n",
            "Epoch 74/100\n",
            "35/35 - 0s - loss: 0.0033 - val_loss: 0.0055\n",
            "Epoch 75/100\n",
            "35/35 - 0s - loss: 0.0042 - val_loss: 0.0022\n",
            "Epoch 76/100\n",
            "35/35 - 0s - loss: 0.0033 - val_loss: 0.0026\n",
            "Epoch 77/100\n",
            "35/35 - 0s - loss: 0.0090 - val_loss: 0.0039\n",
            "Epoch 78/100\n",
            "35/35 - 0s - loss: 0.0064 - val_loss: 0.0019\n",
            "Epoch 79/100\n",
            "35/35 - 0s - loss: 0.0055 - val_loss: 0.0026\n",
            "Epoch 80/100\n",
            "35/35 - 0s - loss: 0.0027 - val_loss: 0.0024\n",
            "Epoch 81/100\n",
            "35/35 - 0s - loss: 0.0033 - val_loss: 0.0035\n",
            "Epoch 82/100\n",
            "35/35 - 0s - loss: 0.0032 - val_loss: 0.0018\n",
            "Epoch 83/100\n",
            "35/35 - 0s - loss: 0.0023 - val_loss: 0.0019\n",
            "Epoch 84/100\n",
            "35/35 - 0s - loss: 0.0022 - val_loss: 0.0022\n",
            "Epoch 85/100\n",
            "35/35 - 0s - loss: 0.0043 - val_loss: 0.0055\n",
            "Epoch 86/100\n",
            "35/35 - 0s - loss: 0.0064 - val_loss: 0.0036\n",
            "Epoch 87/100\n",
            "35/35 - 0s - loss: 0.0030 - val_loss: 0.0049\n",
            "Epoch 88/100\n",
            "35/35 - 0s - loss: 0.0038 - val_loss: 0.0020\n",
            "Epoch 89/100\n",
            "35/35 - 0s - loss: 0.0023 - val_loss: 0.0023\n",
            "Epoch 90/100\n",
            "35/35 - 0s - loss: 0.0072 - val_loss: 0.0044\n",
            "Epoch 91/100\n",
            "35/35 - 0s - loss: 0.0043 - val_loss: 0.0050\n",
            "Epoch 92/100\n",
            "35/35 - 0s - loss: 0.0034 - val_loss: 0.0021\n",
            "Epoch 93/100\n",
            "35/35 - 0s - loss: 0.0061 - val_loss: 0.0067\n",
            "Epoch 94/100\n",
            "35/35 - 0s - loss: 0.0049 - val_loss: 0.0040\n",
            "Epoch 95/100\n",
            "35/35 - 0s - loss: 0.0035 - val_loss: 0.0016\n",
            "Epoch 96/100\n",
            "35/35 - 0s - loss: 0.0021 - val_loss: 0.0016\n",
            "Epoch 97/100\n",
            "35/35 - 0s - loss: 0.0022 - val_loss: 0.0016\n",
            "Epoch 98/100\n",
            "35/35 - 0s - loss: 0.0025 - val_loss: 0.0017\n",
            "Epoch 99/100\n",
            "35/35 - 0s - loss: 0.0023 - val_loss: 0.0019\n",
            "Epoch 100/100\n",
            "35/35 - 0s - loss: 0.0025 - val_loss: 0.0016\n"
          ],
          "name": "stdout"
        }
      ]
    },
    {
      "cell_type": "code",
      "metadata": {
        "colab": {
          "base_uri": "https://localhost:8080/",
          "height": 265
        },
        "id": "IiZkuKuYsttH",
        "outputId": "ee8e9f00-bb53-47bb-d6dd-e14182bfdc13"
      },
      "source": [
        "# plot history\n",
        "pyplot.plot(history.history['loss'], label='train')\n",
        "pyplot.plot(history.history['val_loss'], label='test')\n",
        "pyplot.legend()\n",
        "pyplot.show()"
      ],
      "execution_count": 105,
      "outputs": [
        {
          "output_type": "display_data",
          "data": {
            "image/png": "[encoded data removed]",
            "text/plain": [
              "<Figure size 432x288 with 1 Axes>"
            ]
          },
          "metadata": {
            "tags": [],
            "needs_background": "light"
          }
        }
      ]
    },
    {
      "cell_type": "code",
      "metadata": {
        "id": "-TJSlKZOtCnN"
      },
      "source": [
        "# make a prediction\n",
        "yhat = model.predict(test_X)\n",
        "test_X = test_X.reshape((test_X.shape[0], n_days* n_features,))\n",
        "\n",
        "# invert scaling for forecast\n",
        "inv_yhat = concatenate((yhat, test_X[:, -1:]), axis=1)\n",
        "inv_yhat = scaler.inverse_transform(inv_yhat)\n",
        "inv_yhat = inv_yhat[:,0]\n",
        "\n",
        "# invert scaling for actual\n",
        "test_y = test_y.reshape((len(test_y), 1))\n",
        "inv_y = concatenate((test_y, test_X[:, -1:]), axis=1)\n",
        "inv_y = scaler.inverse_transform(inv_y)\n",
        "inv_y = inv_y[:,0]"
      ],
      "execution_count": 106,
      "outputs": []
    },
    {
      "cell_type": "code",
      "metadata": {
        "colab": {
          "base_uri": "https://localhost:8080/",
          "height": 295
        },
        "id": "45xb-yCpuFBW",
        "outputId": "ac5e0875-f2ae-4d71-c4d7-559282e6fcfa"
      },
      "source": [
        "# plot the results\n",
        "plt.plot(inv_y, color = 'black', label='BTC Price')\n",
        "plt.plot(inv_yhat, color = 'green', label='Predicted BTC Price')\n",
        "plt.title('BTC Price Prediction')\n",
        "plt.xlabel('Days')\n",
        "plt.ylabel('BTC Price ($)')\n",
        "plt.legend()\n",
        "plt.show()\n"
      ],
      "execution_count": 110,
      "outputs": [
        {
          "output_type": "display_data",
          "data": {
            "image/png": "[encoded data removed]",
            "text/plain": [
              "<Figure size 432x288 with 1 Axes>"
            ]
          },
          "metadata": {
            "tags": [],
            "needs_background": "light"
          }
        }
      ]
    },
    {
      "cell_type": "code",
      "metadata": {
        "colab": {
          "base_uri": "https://localhost:8080/"
        },
        "id": "L7EZKEq04Miq",
        "outputId": "131b226f-0503-4e66-d0e5-cd828f2106c8"
      },
      "source": [
        "# MSE & RMSE calcualtion\n",
        "mse = (mean_squared_error(inv_y, inv_yhat))\n",
        "print('MSE: %.3f' % mse)\n",
        "rmse = sqrt(mean_squared_error(inv_y, inv_yhat))\n",
        "print('RMSE: %.3f' % rmse)"
      ],
      "execution_count": 112,
      "outputs": [
        {
          "output_type": "stream",
          "text": [
            "MSE: 13396.722\n",
            "RMSE: 115.744\n"
          ],
          "name": "stdout"
        }
      ]
    }
  ]
}