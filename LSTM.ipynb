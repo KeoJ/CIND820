{
  "nbformat": 4,
  "nbformat_minor": 0,
  "metadata": {
    "colab": {
      "name": "LSTM.ipynb",
      "provenance": [],
      "collapsed_sections": [],
      "authorship_tag": "ABX9TyOZrHhTaj8j/2xrjq/CTaMw",
      "include_colab_link": true
    },
    "kernelspec": {
      "name": "python3",
      "display_name": "Python 3"
    },
    "language_info": {
      "name": "python"
    }
  },
  "cells": [
    {
      "cell_type": "markdown",
      "metadata": {
        "id": "view-in-github",
        "colab_type": "text"
      },
      "source": [
        "<a href=\"https://colab.research.google.com/github/KeoJ/CIND820/blob/main/LSTM.ipynb\" target=\"_parent\"><img src=\"https://colab.research.google.com/assets/colab-badge.svg\" alt=\"Open In Colab\"/></a>"
      ]
    },
    {
      "cell_type": "code",
      "metadata": {
        "id": "eYgWyLC-IOe3"
      },
      "source": [
        "import numpy as np\n",
        "import matplotlib.pyplot as plt\n",
        "import pandas as pd\n",
        "from keras.models import Sequential\n",
        "from keras.layers import Dense\n",
        "from keras.layers import LSTM\n",
        "from keras.layers import Dropout\n",
        "from sklearn.metrics import mean_squared_error\n",
        "from sklearn.preprocessing import MinMaxScaler\n",
        "from math import sqrt\n"
      ],
      "execution_count": 55,
      "outputs": []
    },
    {
      "cell_type": "code",
      "metadata": {
        "id": "fKH06q42uFWM"
      },
      "source": [
        "# filtering the data\n",
        "# train_set = 2017-01-01 to 2019-12-31\n",
        "# test_set = 2020-01-01 to 2020-02-19\n",
        "btc_total = pd.read_csv('btc_total.csv')\n",
        "train_set = btc_total.iloc[998:2093, 5:6].values\n",
        "test_set = btc_total.iloc[2093:2143, 5:6].values\n",
        "\n",
        "# scaling the data\n",
        "sc = MinMaxScaler(feature_range = (0, 1))\n",
        "train_set_scaled = sc.fit_transform(train_set)\n",
        "\n",
        "# creating a data structure with 60 time-steps and 1 output\n",
        "x_train = []\n",
        "y_train = []\n",
        "for i in range(60, 1095):\n",
        "    x_train.append(train_set_scaled[i-60:i, 0])\n",
        "    y_train.append(train_set_scaled[i, 0])\n",
        "x_train, y_train = np.array(x_train), np.array(y_train)\n",
        "x_train = np.reshape(x_train, (x_train.shape[0], x_train.shape[1], 1))\n"
      ],
      "execution_count": 82,
      "outputs": []
    },
    {
      "cell_type": "code",
      "metadata": {
        "colab": {
          "base_uri": "https://localhost:8080/"
        },
        "id": "P6H9kXEs1xGT",
        "outputId": "b3276ce3-6047-48f9-b2ff-24e15baf171a"
      },
      "source": [
        "model = Sequential()\n",
        "\n",
        "# adding LSTM layers and dropout regularisation\n",
        "model.add(LSTM(units = 50, return_sequences = True, input_shape = (x_train.shape[1], 1))) \n",
        "model.add(Dropout(0.2))\n",
        "\n",
        "model.add(LSTM(units = 50, return_sequences = True))\n",
        "model.add(Dropout(0.2))\n",
        "\n",
        "model.add(LSTM(units = 50, return_sequences = True))\n",
        "model.add(Dropout(0.2))\n",
        "\n",
        "model.add(LSTM(units = 50))\n",
        "model.add(Dropout(0.2))\n",
        "\n",
        "# adding output layer\n",
        "model.add(Dense(units = 1))\n",
        "\n",
        "# compiling the RNN\n",
        "model.compile(optimizer = 'adam', loss = 'mean_squared_error')\n",
        "\n",
        "# fitting the RNN to the training set\n",
        "model.fit(x_train, y_train, epochs = 100, batch_size = 32, verbose=2)"
      ],
      "execution_count": 83,
      "outputs": [
        {
          "output_type": "stream",
          "text": [
            "Epoch 1/100\n",
            "33/33 - 11s - loss: 0.0223\n",
            "Epoch 2/100\n",
            "33/33 - 4s - loss: 0.0062\n",
            "Epoch 3/100\n",
            "33/33 - 4s - loss: 0.0066\n",
            "Epoch 4/100\n",
            "33/33 - 4s - loss: 0.0048\n",
            "Epoch 5/100\n",
            "33/33 - 4s - loss: 0.0047\n",
            "Epoch 6/100\n",
            "33/33 - 4s - loss: 0.0039\n",
            "Epoch 7/100\n",
            "33/33 - 4s - loss: 0.0040\n",
            "Epoch 8/100\n",
            "33/33 - 4s - loss: 0.0036\n",
            "Epoch 9/100\n",
            "33/33 - 4s - loss: 0.0037\n",
            "Epoch 10/100\n",
            "33/33 - 4s - loss: 0.0037\n",
            "Epoch 11/100\n",
            "33/33 - 4s - loss: 0.0036\n",
            "Epoch 12/100\n",
            "33/33 - 4s - loss: 0.0033\n",
            "Epoch 13/100\n",
            "33/33 - 4s - loss: 0.0031\n",
            "Epoch 14/100\n",
            "33/33 - 4s - loss: 0.0029\n",
            "Epoch 15/100\n",
            "33/33 - 4s - loss: 0.0031\n",
            "Epoch 16/100\n",
            "33/33 - 4s - loss: 0.0031\n",
            "Epoch 17/100\n",
            "33/33 - 4s - loss: 0.0032\n",
            "Epoch 18/100\n",
            "33/33 - 4s - loss: 0.0031\n",
            "Epoch 19/100\n",
            "33/33 - 4s - loss: 0.0028\n",
            "Epoch 20/100\n",
            "33/33 - 4s - loss: 0.0027\n",
            "Epoch 21/100\n",
            "33/33 - 4s - loss: 0.0025\n",
            "Epoch 22/100\n",
            "33/33 - 4s - loss: 0.0027\n",
            "Epoch 23/100\n",
            "33/33 - 4s - loss: 0.0025\n",
            "Epoch 24/100\n",
            "33/33 - 4s - loss: 0.0024\n",
            "Epoch 25/100\n",
            "33/33 - 4s - loss: 0.0023\n",
            "Epoch 26/100\n",
            "33/33 - 4s - loss: 0.0022\n",
            "Epoch 27/100\n",
            "33/33 - 4s - loss: 0.0025\n",
            "Epoch 28/100\n",
            "33/33 - 4s - loss: 0.0024\n",
            "Epoch 29/100\n",
            "33/33 - 4s - loss: 0.0025\n",
            "Epoch 30/100\n",
            "33/33 - 4s - loss: 0.0024\n",
            "Epoch 31/100\n",
            "33/33 - 4s - loss: 0.0021\n",
            "Epoch 32/100\n",
            "33/33 - 4s - loss: 0.0022\n",
            "Epoch 33/100\n",
            "33/33 - 4s - loss: 0.0023\n",
            "Epoch 34/100\n",
            "33/33 - 4s - loss: 0.0020\n",
            "Epoch 35/100\n",
            "33/33 - 4s - loss: 0.0020\n",
            "Epoch 36/100\n",
            "33/33 - 4s - loss: 0.0020\n",
            "Epoch 37/100\n",
            "33/33 - 4s - loss: 0.0019\n",
            "Epoch 38/100\n",
            "33/33 - 4s - loss: 0.0019\n",
            "Epoch 39/100\n",
            "33/33 - 4s - loss: 0.0021\n",
            "Epoch 40/100\n",
            "33/33 - 4s - loss: 0.0019\n",
            "Epoch 41/100\n",
            "33/33 - 4s - loss: 0.0018\n",
            "Epoch 42/100\n",
            "33/33 - 4s - loss: 0.0018\n",
            "Epoch 43/100\n",
            "33/33 - 4s - loss: 0.0021\n",
            "Epoch 44/100\n",
            "33/33 - 4s - loss: 0.0020\n",
            "Epoch 45/100\n",
            "33/33 - 4s - loss: 0.0019\n",
            "Epoch 46/100\n",
            "33/33 - 4s - loss: 0.0019\n",
            "Epoch 47/100\n",
            "33/33 - 4s - loss: 0.0022\n",
            "Epoch 48/100\n",
            "33/33 - 4s - loss: 0.0020\n",
            "Epoch 49/100\n",
            "33/33 - 4s - loss: 0.0017\n",
            "Epoch 50/100\n",
            "33/33 - 4s - loss: 0.0018\n",
            "Epoch 51/100\n",
            "33/33 - 4s - loss: 0.0016\n",
            "Epoch 52/100\n",
            "33/33 - 4s - loss: 0.0016\n",
            "Epoch 53/100\n",
            "33/33 - 4s - loss: 0.0017\n",
            "Epoch 54/100\n",
            "33/33 - 4s - loss: 0.0015\n",
            "Epoch 55/100\n",
            "33/33 - 4s - loss: 0.0017\n",
            "Epoch 56/100\n",
            "33/33 - 4s - loss: 0.0016\n",
            "Epoch 57/100\n",
            "33/33 - 4s - loss: 0.0014\n",
            "Epoch 58/100\n",
            "33/33 - 4s - loss: 0.0015\n",
            "Epoch 59/100\n",
            "33/33 - 4s - loss: 0.0015\n",
            "Epoch 60/100\n",
            "33/33 - 4s - loss: 0.0015\n",
            "Epoch 61/100\n",
            "33/33 - 4s - loss: 0.0014\n",
            "Epoch 62/100\n",
            "33/33 - 4s - loss: 0.0013\n",
            "Epoch 63/100\n",
            "33/33 - 4s - loss: 0.0015\n",
            "Epoch 64/100\n",
            "33/33 - 4s - loss: 0.0016\n",
            "Epoch 65/100\n",
            "33/33 - 4s - loss: 0.0014\n",
            "Epoch 66/100\n",
            "33/33 - 4s - loss: 0.0013\n",
            "Epoch 67/100\n",
            "33/33 - 4s - loss: 0.0013\n",
            "Epoch 68/100\n",
            "33/33 - 4s - loss: 0.0015\n",
            "Epoch 69/100\n",
            "33/33 - 4s - loss: 0.0012\n",
            "Epoch 70/100\n",
            "33/33 - 4s - loss: 0.0016\n",
            "Epoch 71/100\n",
            "33/33 - 4s - loss: 0.0014\n",
            "Epoch 72/100\n",
            "33/33 - 4s - loss: 0.0013\n",
            "Epoch 73/100\n",
            "33/33 - 4s - loss: 0.0013\n",
            "Epoch 74/100\n",
            "33/33 - 4s - loss: 0.0012\n",
            "Epoch 75/100\n",
            "33/33 - 4s - loss: 0.0012\n",
            "Epoch 76/100\n",
            "33/33 - 4s - loss: 0.0013\n",
            "Epoch 77/100\n",
            "33/33 - 4s - loss: 0.0013\n",
            "Epoch 78/100\n",
            "33/33 - 4s - loss: 0.0014\n",
            "Epoch 79/100\n",
            "33/33 - 4s - loss: 0.0012\n",
            "Epoch 80/100\n",
            "33/33 - 4s - loss: 0.0013\n",
            "Epoch 81/100\n",
            "33/33 - 4s - loss: 0.0014\n",
            "Epoch 82/100\n",
            "33/33 - 4s - loss: 0.0013\n",
            "Epoch 83/100\n",
            "33/33 - 4s - loss: 0.0013\n",
            "Epoch 84/100\n",
            "33/33 - 4s - loss: 0.0012\n",
            "Epoch 85/100\n",
            "33/33 - 4s - loss: 0.0013\n",
            "Epoch 86/100\n",
            "33/33 - 4s - loss: 0.0011\n",
            "Epoch 87/100\n",
            "33/33 - 4s - loss: 0.0011\n",
            "Epoch 88/100\n",
            "33/33 - 4s - loss: 0.0011\n",
            "Epoch 89/100\n",
            "33/33 - 4s - loss: 0.0012\n",
            "Epoch 90/100\n",
            "33/33 - 4s - loss: 0.0013\n",
            "Epoch 91/100\n",
            "33/33 - 4s - loss: 0.0011\n",
            "Epoch 92/100\n",
            "33/33 - 4s - loss: 9.1441e-04\n",
            "Epoch 93/100\n",
            "33/33 - 4s - loss: 0.0010\n",
            "Epoch 94/100\n",
            "33/33 - 4s - loss: 9.8975e-04\n",
            "Epoch 95/100\n",
            "33/33 - 4s - loss: 0.0011\n",
            "Epoch 96/100\n",
            "33/33 - 4s - loss: 0.0010\n",
            "Epoch 97/100\n",
            "33/33 - 4s - loss: 0.0010\n",
            "Epoch 98/100\n",
            "33/33 - 4s - loss: 0.0011\n",
            "Epoch 99/100\n",
            "33/33 - 4s - loss: 0.0010\n",
            "Epoch 100/100\n",
            "33/33 - 4s - loss: 9.3387e-04\n"
          ],
          "name": "stdout"
        },
        {
          "output_type": "execute_result",
          "data": {
            "text/plain": [
              "<keras.callbacks.History at 0x7fd675f2ac90>"
            ]
          },
          "metadata": {
            "tags": []
          },
          "execution_count": 83
        }
      ]
    },
    {
      "cell_type": "code",
      "metadata": {
        "id": "ewRxQ-LV9IXh"
      },
      "source": [
        "# predicting test data\n",
        "dataset_train = btc_total.iloc[998:2093, 5:6]\n",
        "dataset_test = btc_total.iloc[2093:2143, 5:6]\n",
        "dataset_total = pd.concat((dataset_train, dataset_test), axis = 0)\n",
        "\n",
        "inputs = dataset_total[len(dataset_total) - len(dataset_test) - 60:].values\n",
        "inputs = inputs.reshape(-1,1)\n",
        "inputs = sc.transform(inputs)\n",
        "\n",
        "x_test = []\n",
        "for i in range(60, 110):\n",
        "    x_test.append(inputs[i-60:i, 0])\n",
        "x_test = np.array(x_test)\n",
        "x_test = np.reshape(x_test, (x_test.shape[0], x_test.shape[1], 1))"
      ],
      "execution_count": 85,
      "outputs": []
    },
    {
      "cell_type": "code",
      "metadata": {
        "id": "Nsu5BqVARUhV"
      },
      "source": [
        "# predicting price\n",
        "predicted_price = model.predict(x_test)\n",
        "predicted_price = sc.inverse_transform(predicted_price)"
      ],
      "execution_count": 86,
      "outputs": []
    },
    {
      "cell_type": "code",
      "metadata": {
        "colab": {
          "base_uri": "https://localhost:8080/",
          "height": 295
        },
        "id": "6WmLmbWIRVJK",
        "outputId": "3e044348-09cc-4ee2-d2d2-aaaa8c27832b"
      },
      "source": [
        "# plot the results\n",
        "plt.plot(test_set, color = 'black', label = 'BTC Price')\n",
        "plt.plot(predicted_price, color = 'green', label = 'Predicted BTC Price')\n",
        "plt.title('BTC Price Prediction')\n",
        "plt.xlabel('Days')\n",
        "plt.ylabel('BTC Price ($)')\n",
        "plt.legend()\n",
        "plt.show()"
      ],
      "execution_count": 87,
      "outputs": [
        {
          "output_type": "display_data",
          "data": {
            "image/png": "[encoded data removed]",
            "text/plain": [
              "<Figure size 432x288 with 1 Axes>"
            ]
          },
          "metadata": {
            "tags": [],
            "needs_background": "light"
          }
        }
      ]
    },
    {
      "cell_type": "code",
      "metadata": {
        "colab": {
          "base_uri": "https://localhost:8080/"
        },
        "id": "O7vCy6E8TyzQ",
        "outputId": "3f86c7b5-d1f6-4379-f707-9f47de4a3f7a"
      },
      "source": [
        "# MSE & RMSE calcualtion\n",
        "mse = (mean_squared_error(test_set, predicted_price))\n",
        "print('MSE: %.3f' % mse)\n",
        "rmse = sqrt(mean_squared_error(test_set, predicted_price))\n",
        "print('RMSE: %.3f' % rmse)"
      ],
      "execution_count": 88,
      "outputs": [
        {
          "output_type": "stream",
          "text": [
            "MSE: 61751.382\n",
            "RMSE: 248.498\n"
          ],
          "name": "stdout"
        }
      ]
    }
  ]
}
